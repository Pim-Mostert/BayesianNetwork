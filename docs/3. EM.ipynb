{
 "cells": [
  {
   "cell_type": "code",
   "execution_count": 6,
   "metadata": {},
   "outputs": [],
   "source": [
    "import numpy as np"
   ]
  },
  {
   "cell_type": "markdown",
   "metadata": {},
   "source": [
    "# Example run EM algorithm"
   ]
  },
  {
   "cell_type": "markdown",
   "metadata": {},
   "source": [
    "## Define true Bayesian Network"
   ]
  },
  {
   "cell_type": "code",
   "execution_count": 7,
   "metadata": {},
   "outputs": [],
   "source": [
    "\n",
    "# True CPTs\n",
    "P_Q1_true = np.array([0.4, 0.6])\n",
    "P_Q2xQ1_true = np.array([[0.3, 0.7], [0.2, 0.8]])\n",
    "P_Y1xQ1_true = np.array([[0.1, 0.6, 0.3], [0.5, 0.1, 0.4]])\n",
    "P_Y2xQ2_true = np.array([[0.5, 0.3, 0.2], [0.4, 0.2, 0.4]])\n",
    "P_Y3xQ2_true = np.array([[0.4, 0.6], [0.9, 0.1]])"
   ]
  },
  {
   "cell_type": "code",
   "execution_count": 8,
   "metadata": {},
   "outputs": [],
   "source": [
    "## Generate data\n",
    "N = 10000\n",
    "\n",
    "Y1_hat = np.zeros((N, 3))\n",
    "Y2_hat = np.zeros((N, 3))\n",
    "Y3_hat = np.zeros((N, 2))\n",
    "\n",
    "for n in range(N):\n",
    "    Q1 = np.random.choice([0, 1], p=P_Q1_true)\n",
    "    Q2 = np.random.choice([0, 1], p=P_Q2xQ1_true[Q1, :])\n",
    "    Y1 = np.random.choice([0, 1, 2], p=P_Y1xQ1_true[Q1, :])\n",
    "    Y2 = np.random.choice([0, 1, 2], p=P_Y2xQ2_true[Q2, :])\n",
    "    Y3 = np.random.choice([0, 1], p=P_Y3xQ2_true[Q2, :])\n",
    "    \n",
    "    Y1_hat[n, Y1] = 1\n",
    "    Y2_hat[n, Y2] = 1\n",
    "    Y3_hat[n, Y3] = 1"
   ]
  },
  {
   "cell_type": "markdown",
   "metadata": {},
   "source": [
    "## EM algorithm"
   ]
  },
  {
   "cell_type": "code",
   "execution_count": 9,
   "metadata": {},
   "outputs": [],
   "source": [
    "I = 10\n",
    "\n",
    "P_Q1 = np.random.random((2)); P_Q1 = P_Q1 / P_Q1.sum()\n",
    "P_Q2xQ1 = np.random.random((2, 2)); P_Q2xQ1 /= P_Q2xQ1.sum(axis=1, keepdims=True)\n",
    "P_Y1xQ1 = np.random.random((2, 3)); P_Y1xQ1 /= P_Y1xQ1.sum(axis=1, keepdims=True)\n",
    "P_Y2xQ2 = np.random.random((2, 3)); P_Y2xQ2 /= P_Y2xQ2.sum(axis=1, keepdims=True)\n",
    "P_Y3xQ2 = np.random.random((2, 2)); P_Y3xQ2 /= P_Y3xQ2.sum(axis=1, keepdims=True)\n",
    "\n",
    "# Log-likelihood over iterations\n",
    "ll = np.zeros((I))\n",
    "\n",
    "for i in range(I):\n",
    "    ### E-step\n",
    "    # Calculate complete probability distribution\n",
    "    \n",
    "    # [N, Q1, Q2, Y1, Y2, Y3]\n",
    "    P = P_Q1[None, :, None, None, None, None] \\\n",
    "        * P_Q2xQ1[None, :, :, None, None, None] \\\n",
    "        * P_Y1xQ1[None, :, None, :, None, None] \\\n",
    "        * P_Y2xQ2[None, None, :, None, :, None] \\\n",
    "        * P_Y3xQ2[None, None, :, None, None, :]\n",
    "    \n",
    "    # Enter evidence by multiplying\n",
    "    P = P \\\n",
    "        * Y1_hat[:, None, None, :, None, None] \\\n",
    "        * Y2_hat[:, None, None, None, :, None] \\\n",
    "        * Y3_hat[:, None, None, None, None, :]\n",
    "    \n",
    "    likelihood = P.sum(axis=(1, 2, 3, 4, 5))\n",
    "    \n",
    "    # Marginalize, unnormalized\n",
    "    P_Q1 = P.sum(axis=(2, 3, 4, 5))\n",
    "    P_Q2xQ1 = P.sum(axis=(3, 4, 5))\n",
    "    P_Y1xQ1 = P.sum(axis=(2, 4, 5))\n",
    "    P_Y2xQ2 = P.sum(axis=(1, 3, 5))\n",
    "    P_Y3xQ2 = P.sum(axis=(1, 3, 4))\n",
    "    \n",
    "    # Normalize\n",
    "    P_Q1 = P_Q1 / likelihood[:, None]\n",
    "    P_Q2xQ1 = P_Q2xQ1 / likelihood[:, None, None]\n",
    "    P_Y1xQ1 = P_Y1xQ1 / likelihood[:, None, None]\n",
    "    P_Y2xQ2 = P_Y2xQ2 / likelihood[:, None, None]\n",
    "    P_Y3xQ2 = P_Y3xQ2 / likelihood[:, None, None]\n",
    "    \n",
    "    ### M-step\n",
    "    \n",
    "    # Sum over trials\n",
    "    P_Q1 = P_Q1.sum(axis=0)\n",
    "    P_Q2xQ1 = P_Q2xQ1.sum(axis=0)\n",
    "    P_Y1xQ1 = P_Y1xQ1.sum(axis=0)\n",
    "    P_Y2xQ2 = P_Y2xQ2.sum(axis=0)\n",
    "    P_Y3xQ2 = P_Y3xQ2.sum(axis=0)\n",
    "    \n",
    "    # Normalize\n",
    "    P_Q1 /= P_Q1.sum()\n",
    "    P_Q2xQ1 /= P_Q2xQ1.sum(axis=1, keepdims=True)\n",
    "    P_Y1xQ1 /= P_Y1xQ1.sum(axis=1, keepdims=True)\n",
    "    P_Y2xQ2 /= P_Y2xQ2.sum(axis=1, keepdims=True)\n",
    "    P_Y3xQ2 /= P_Y3xQ2.sum(axis=1, keepdims=True)\n",
    "    \n",
    "    # Log log-likelihood\n",
    "    ll[i] = np.log(likelihood).sum()\n"
   ]
  },
  {
   "cell_type": "markdown",
   "metadata": {},
   "source": [
    "## Results"
   ]
  },
  {
   "cell_type": "markdown",
   "metadata": {},
   "source": [
    "## Plot log-likelihood over iterations"
   ]
  },
  {
   "cell_type": "code",
   "execution_count": 10,
   "metadata": {},
   "outputs": [
    {
     "data": {
      "text/plain": [
       "[<matplotlib.lines.Line2D at 0x111155990>]"
      ]
     },
     "execution_count": 10,
     "metadata": {},
     "output_type": "execute_result"
    },
    {
     "data": {
      "image/png": "[encoded data removed]",
      "text/plain": [
       "<Figure size 640x480 with 1 Axes>"
      ]
     },
     "metadata": {},
     "output_type": "display_data"
    }
   ],
   "source": [
    "# Plot\n",
    "import matplotlib.pyplot as plt; plt.ion()\n",
    "\n",
    "plt.plot(ll)"
   ]
  },
  {
   "cell_type": "code",
   "execution_count": 12,
   "metadata": {},
   "outputs": [
    {
     "data": {
      "text/plain": [
       "True"
      ]
     },
     "execution_count": 12,
     "metadata": {},
     "output_type": "execute_result"
    }
   ],
   "source": [
    "# The log-likelihood increases at each iteration\n",
    "(ll[1:] - ll[:-1] > 0).all()"
   ]
  }
 ],
 "metadata": {
  "kernelspec": {
   "display_name": ".venv",
   "language": "python",
   "name": "python3"
  },
  "language_info": {
   "codemirror_mode": {
    "name": "ipython",
    "version": 3
   },
   "file_extension": ".py",
   "mimetype": "text/x-python",
   "name": "python",
   "nbconvert_exporter": "python",
   "pygments_lexer": "ipython3",
   "version": "3.10.7"
  }
 },
 "nbformat": 4,
 "nbformat_minor": 2
}
