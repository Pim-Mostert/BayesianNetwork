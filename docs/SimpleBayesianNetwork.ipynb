{
 "cells": [
  {
   "cell_type": "markdown",
   "metadata": {},
   "source": [
    "# Simple Bayesian Network example\n",
    "\n",
    "Let's consider this simple network:\n",
    "\n",
    "```mermaid\n",
    "\n",
    "graph TD\n",
    "    Q((Q))\n",
    "    Y((Y))\n",
    "\n",
    "    Q-->Y\n",
    "```"
   ]
  },
  {
   "cell_type": "markdown",
   "metadata": {},
   "source": [
    "Let's define the following probability distributions.\n",
    "\n",
    "$P(Q)$ is described by a two-label conditional probability table (CPT):\n",
    "\n",
    "| q | P(Q = q) |\n",
    "|---|----------|\n",
    "| 0 | 0.4      |\n",
    "| 1 | 0.6      |\n",
    "\n",
    "$P(Y|Q)$ is described by a CPT where $Y$ takes on three possible values:\n",
    "\n",
    "| y | P(Y = y &#124; Q = 0) | P(Y = y &#124; Q = 1) |\n",
    "|---|----------| ------------------------ |\n",
    "| 0 | 0.1      | 0.5                      |\n",
    "| 1 | 0.6      | 0.1                      |\n",
    "| 2 | 0.3      | 0.4                      |"
   ]
  },
  {
   "cell_type": "markdown",
   "metadata": {},
   "source": [
    "## Inference\n",
    "\n",
    "### Naive implementation\n",
    "\n",
    "Now let's perform inference on the hidden variable $Q$ for each of the three possible observations.\n",
    "\n",
    "The posterior distribution is calculated as:\n",
    "\n",
    "$$\n",
    "\n",
    "P(Q|Y) = \\frac{P(Y|Q)P(Q)}{P(Y)} = \\frac{P(Y|Q)P(Q)}{\\sum\\limits_{q}{P(Y|Q)P(Q)}}\n",
    "\n",
    "$$"
   ]
  },
  {
   "cell_type": "code",
   "execution_count": 37,
   "metadata": {},
   "outputs": [
    {
     "data": {
      "text/plain": [
       "array([[0.11764706, 0.88235294],\n",
       "       [0.8       , 0.2       ],\n",
       "       [0.33333333, 0.66666667]])"
      ]
     },
     "execution_count": 37,
     "metadata": {},
     "output_type": "execute_result"
    }
   ],
   "source": [
    "import numpy as np\n",
    "\n",
    "# Define CPTs\n",
    "P_Q = np.array([0.4, 0.6])\n",
    "P_YxQ = np.array([[0.1, 0.6, 0.3], [0.5, 0.1, 0.4]])\n",
    "\n",
    "# Calculate unnormalized\n",
    "P_QxY = (P_YxQ * P_Q[:, None]).T\n",
    "\n",
    "# Normalize\n",
    "P_Y = P_QxY.sum(axis=1)\n",
    "P_QxY /= P_Y[:, None]\n",
    "\n",
    "# Print\n",
    "P_QxY\n"
   ]
  },
  {
   "cell_type": "markdown",
   "metadata": {},
   "source": [
    "### Sum-product algorithm\n",
    "\n",
    "Now let's perform inference using the sum-product algorithm."
   ]
  },
  {
   "cell_type": "markdown",
   "metadata": {},
   "source": [
    "The corresponding factor graph is:\n",
    "\n",
    "```mermaid\n",
    "\n",
    "graph BT\n",
    "    classDef evidence visibility:hidden\n",
    "    classDef variableNode padding:15px\n",
    "    \n",
    "    input([\" \"]):::evidence    \n",
    "    subgraph group_Y[\" \"]\n",
    "        Y(($$ Y $$)):::variableNode\n",
    "        f2[$$ f_2 $$]\n",
    "    end\n",
    "    subgraph group_Q[\" \"]\n",
    "        Q((\"$$ Q $$\")):::variableNode\n",
    "        f1[\"$$ f_1 $$\"]\n",
    "    end\n",
    "\n",
    "    f1--\"$$ b_1 $$\"-->Q\n",
    "    Q--\"$$ a_1 $$\"--> f1\n",
    "    Q--\"$$ a_2 $$\"-->f2\n",
    "    f2--\"$$ b_2 $$\"-->Q\n",
    "    f2--\"$$ b_3 $$\"-->Y\n",
    "    Y--\"$$ a_3 $$\"-->f2\n",
    "    \n",
    "    input-.->|$$ d_3 $$| Y\n",
    "    Y ~~~ input\n",
    "    \n",
    "```"
   ]
  },
  {
   "cell_type": "markdown",
   "metadata": {},
   "source": [
    "And message definitions:\n",
    "\n",
    "$$\n",
    "\n",
    "\\begin{align}\n",
    "\n",
    "d_3(y) & = \n",
    "    P(\\hat{Y}|Y)\n",
    "    \\qquad \\qquad \\qquad \\qquad \\qquad \\qquad \\qquad \\qquad \\qquad \\qquad \\qquad \n",
    "    & \\begin{cases}\n",
    "        1 & \\text{if } y = \\hat{y} \\\\\n",
    "        0 & \\text{if } y \\ne \\hat{y} \\\\\n",
    "    \\end{cases} \\\\\n",
    "a_3(y) & = \n",
    "    d_3(y)\n",
    "    & P(\\hat{Y}|Y) \\\\\n",
    "b_3(y) & =\n",
    "    \\sum_{q}{f_2(q, y)a_2(q)} \n",
    "    = \\sum_{q}{P(Y|Q)P(Q)}\n",
    "    & P(Y) \\\\\n",
    "b_2(q) & =\n",
    "    \\sum_{q}{f_2(q, y)a_3(q)} \n",
    "    = \\sum_{q}{P(Y|Q)P(\\hat{Y}|Y)}\n",
    "    & P(\\hat{Y}|Q) \\\\\n",
    "a_2(q) & = \n",
    "    b_1(q)\n",
    "    & P(Q) \\\\\n",
    "a_1(q) & = \n",
    "    b_2(q)\n",
    "    & P(\\hat{Y}|Q) \\\\\n",
    "b_1(q) & = \n",
    "    f_1(q)\n",
    "    & P(Q) \\\\\n",
    "        \n",
    "\n",
    "\\end{align}\n",
    "\n",
    "$$\n"
   ]
  },
  {
   "cell_type": "code",
   "execution_count": 38,
   "metadata": {},
   "outputs": [
    {
     "data": {
      "text/plain": [
       "array([[0.11764706, 0.88235294],\n",
       "       [0.8       , 0.2       ],\n",
       "       [0.33333333, 0.66666667]])"
      ]
     },
     "execution_count": 38,
     "metadata": {},
     "output_type": "execute_result"
    }
   ],
   "source": [
    "P_QxY = np.zeros((3, 2))\n",
    "\n",
    "# For each possible input value\n",
    "for Y_hat in [0, 1, 2]:\n",
    "    # Messages upwards\n",
    "    d3 = (np.arange(3) == Y_hat).astype(float)\n",
    "    a3 = d3\n",
    "    b2 = (P_YxQ * a3[None, :]).sum(axis=1)\n",
    "    a1 = b2\n",
    "\n",
    "    # Messages downwards\n",
    "    b1 = P_Q\n",
    "    a2 = b1\n",
    "    b3 = (P_YxQ * a2[:, None]).sum(axis=0)\n",
    "    \n",
    "    # Calculate P_Q\n",
    "    P_QxY[Y_hat, :] = a1 * b1 / (a1 * b1).sum()\n",
    "    \n",
    "P_QxY\n",
    "    "
   ]
  },
  {
   "cell_type": "markdown",
   "metadata": {},
   "source": [
    "These values match with the ones calculated naively, showing the correctness of the algorithm."
   ]
  }
 ],
 "metadata": {
  "kernelspec": {
   "display_name": ".venv",
   "language": "python",
   "name": "python3"
  },
  "language_info": {
   "codemirror_mode": {
    "name": "ipython",
    "version": 3
   },
   "file_extension": ".py",
   "mimetype": "text/x-python",
   "name": "python",
   "nbconvert_exporter": "python",
   "pygments_lexer": "ipython3",
   "version": "3.10.7"
  }
 },
 "nbformat": 4,
 "nbformat_minor": 2
}
