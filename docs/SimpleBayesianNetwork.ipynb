{
 "cells": [
  {
   "cell_type": "markdown",
   "metadata": {},
   "source": [
    "# Hoi"
   ]
  },
  {
   "cell_type": "markdown",
   "metadata": {},
   "source": [
    "\n",
    "$P(Q) = \\hat{Y}$\n",
    "\n",
    "```\n",
    "\n",
    "hoi \n",
    "mooi man\n",
    "```\n",
    "\n",
    "```mermaid\n",
    "\n",
    "graph TD\n",
    "    Q((Q))\n",
    "    Y((Y))\n",
    "\n",
    "    Q-->Y\n",
    "    \n",
    "```"
   ]
  }
 ],
 "metadata": {
  "kernelspec": {
   "display_name": ".venv",
   "language": "python",
   "name": "python3"
  },
  "language_info": {
   "codemirror_mode": {
    "name": "ipython",
    "version": 3
   },
   "file_extension": ".py",
   "mimetype": "text/x-python",
   "name": "python",
   "nbconvert_exporter": "python",
   "pygments_lexer": "ipython3",
   "version": "3.10.7"
  }
 },
 "nbformat": 4,
 "nbformat_minor": 2
}
